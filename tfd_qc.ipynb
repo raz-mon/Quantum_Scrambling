{
 "cells": [
  {
   "cell_type": "code",
   "execution_count": 15,
   "id": "123be0e2-c88c-4ba4-a877-95f711588764",
   "metadata": {},
   "outputs": [],
   "source": [
    "import numpy as np\n",
    "\n",
    "from qiskit import QuantumCircuit, Aer, IBMQ, ClassicalRegister\n",
    "from qiskit.providers.ibmq import least_busy\n",
    "from qiskit.visualization import plot_histogram\n",
    "from qiskit.compiler import transpile, assemble\n",
    "\n",
    "from variational_tfd import QAOA_TFD"
   ]
  },
  {
   "cell_type": "markdown",
   "id": "945e983d-998c-49cc-bd28-b23d6eb00a5c",
   "metadata": {},
   "source": [
    "# Preparing TFD on Quantum Computers\n",
    "\n",
    "Our goal is to run the teleportation protocol at finite temperature. To do this, we need to prepare the thermofield double; however, this is not trivial with current hardware. Here, we try to understand what is the best setup to prepare the TFD. \n",
    "\n",
    "To prepare the thermofield double we use the technique of [Wu, Hsieh 2018](https://arxiv.org/abs/1811.11756). We are satisfied in finding the optimal angles with a classical simulation, which we run in `preparing_tfd`. \n",
    "\n",
    "We have a few choices to make:\n",
    "1. Model:\n",
    "- Transverse field Ising model (TFID), see [Zhu et al 2019](https://arxiv.org/pdf/1906.02699.pdf) or [Green et al. 2021](https://arxiv.org/abs/2112.02068); \n",
    "- Self-dual kicked Ising mode, see [Shapoval et al. 2022](https://arxiv.org/abs/2205.14081);\n",
    "2. Quantum computer:\n",
    "- IBM;\n",
    "- IonQ;\n",
    "- Quantinuum;\n",
    "3. Quantum compilation: we can start looking into [Shapoval et al. 2022](https://arxiv.org/abs/2205.14081) and into *tket*;\n",
    "3. Error mitigation: we can start looking into [Shapoval et al. 2022](https://arxiv.org/abs/2205.14081) and the code they provide.\n",
    "\n",
    "A tentative plan:\n",
    "1. Prepare TFD for the different models on IBM machines, without optimization on compilation, or error mitigation. Here we don't need to learn anything new);\n",
    "2. Start looking at optimization on compilation, or error mitigation on IBM machines. Probably a lot is already provided in *Qiskit*. In the meantime try to run the circuits from 1. on other machines;\n",
    "3. If necessary extend compilation optimization and error mitigation to the new machines;\n",
    "4. Pick the best setup."
   ]
  },
  {
   "cell_type": "markdown",
   "id": "6d72f423-29c9-4454-9504-7914b9601a9d",
   "metadata": {},
   "source": [
    "## 1. Running on IBM machines"
   ]
  },
  {
   "cell_type": "code",
   "execution_count": 2,
   "id": "1abea914-5c4b-4fce-b7cd-707ed6e4d751",
   "metadata": {},
   "outputs": [],
   "source": [
    "# To run the simulations we need the following backend\n",
    "backend_sim = Aer.get_backend('qasm_simulator')\n",
    "# To run circuit on the quantum computer we use the following backend\n",
    "IBMQ.load_account()\n",
    "provider = IBMQ.get_provider(hub='ibm-q')\n",
    "good_devices = provider.backends(filters=lambda device: device.name() in ['ibm_nairobi', 'ibm_oslo']) \n",
    "backend_exp = least_busy(good_devices)"
   ]
  },
  {
   "cell_type": "markdown",
   "id": "330abc50-eee3-4fd8-a57d-148d26fe2ea8",
   "metadata": {},
   "source": [
    "Before considering any of the models above, we try to prepare the infinite temperature TFD, i.e. a bunch of Bell pairs. This will give us an idea of how well (or more likely how *bad*), the IBM machines perform. \n",
    "\n",
    "We consider a system of 6 qubits. We entangle the first qubit with the last, the second with the second last, and so on."
   ]
  },
  {
   "cell_type": "code",
   "execution_count": 5,
   "id": "9382daa1-1bf9-4cb7-8139-025d97a18458",
   "metadata": {},
   "outputs": [
    {
     "data": {
      "text/plain": [
       "<qiskit.circuit.instructionset.InstructionSet at 0x150ff8140>"
      ]
     },
     "execution_count": 5,
     "metadata": {},
     "output_type": "execute_result"
    }
   ],
   "source": [
    "# create a circuit with 6 qubits\n",
    "n = 3\n",
    "circ_bell = QuantumCircuit(2*n, 2*n)\n",
    "for i in range(n):\n",
    "    # to entangle the qubits we first apply Hadamard (H) to one of them\n",
    "    circ_bell.h(i)\n",
    "    # and then apply CX to the other, controlled on the qubit on which we have applied H\n",
    "    circ_bell.cx(i, 2*n-1-i)\n",
    "circ_bell.barrier(range(2*n))\n",
    "circ_bell.measure(range(2*n), range(2*n))"
   ]
  },
  {
   "cell_type": "code",
   "execution_count": 6,
   "id": "0dce3ae4-5948-4224-bc94-c4ab106e9dbe",
   "metadata": {},
   "outputs": [
    {
     "data": {
      "image/png": "[encoded data removed]",
      "text/plain": [
       "<Figure size 748.797x445.48 with 1 Axes>"
      ]
     },
     "execution_count": 6,
     "metadata": {},
     "output_type": "execute_result"
    }
   ],
   "source": [
    "circ_bell.draw('mpl')"
   ]
  },
  {
   "cell_type": "markdown",
   "id": "7d2e2e6f-59fa-4e44-8ccf-9052dbdda286",
   "metadata": {},
   "source": [
    "First, we simulate the system without noise, using the `qasm_simulator` from `AER`."
   ]
  },
  {
   "cell_type": "code",
   "execution_count": 8,
   "id": "b4dc619e-c288-4d72-9df2-1fc119138a5e",
   "metadata": {},
   "outputs": [
    {
     "name": "stderr",
     "output_type": "stream",
     "text": [
      "/Users/af_rotundo/miniforge3/envs/qg_lab/lib/python3.10/site-packages/numpy/linalg/linalg.py:2146: RuntimeWarning: divide by zero encountered in det\n",
      "  r = _umath_linalg.det(a, signature=signature)\n",
      "/Users/af_rotundo/miniforge3/envs/qg_lab/lib/python3.10/site-packages/numpy/linalg/linalg.py:2146: RuntimeWarning: invalid value encountered in det\n",
      "  r = _umath_linalg.det(a, signature=signature)\n"
     ]
    }
   ],
   "source": [
    "job_bell_sim = backend_sim.run(transpile(circ_bell, backend_sim), shots=1024)\n",
    "result_bell_sim = job_bell_sim.result()"
   ]
  },
  {
   "cell_type": "code",
   "execution_count": 9,
   "id": "a7b5cd04-6783-4801-a9bc-f812cb443939",
   "metadata": {},
   "outputs": [
    {
     "name": "stdout",
     "output_type": "stream",
     "text": [
      "{'110011': 131, '000000': 113, '101101': 114, '111111': 138, '100001': 137, '010010': 135, '011110': 109, '001100': 147}\n"
     ]
    }
   ],
   "source": [
    "print(result_bell_sim.get_counts())"
   ]
  },
  {
   "cell_type": "markdown",
   "id": "a1b2527c-4b58-47ab-95fe-1f1db7945615",
   "metadata": {},
   "source": [
    "Next, we run the circuit on a quantum computer, and compare the result. "
   ]
  },
  {
   "cell_type": "code",
   "execution_count": 10,
   "id": "407b45d6-5431-4e09-af31-2688355fa4d5",
   "metadata": {},
   "outputs": [
    {
     "data": {
      "text/plain": [
       "<JobStatus.VALIDATING: 'job is being validated'>"
      ]
     },
     "execution_count": 10,
     "metadata": {},
     "output_type": "execute_result"
    }
   ],
   "source": [
    "job_bell_exp = backend_exp.run(transpile(circ_bell, backend_exp), shots=1024)\n",
    "job_bell_exp.status()"
   ]
  },
  {
   "cell_type": "code",
   "execution_count": 23,
   "id": "9611cc9a-fbb7-4855-8d4a-974155205cf6",
   "metadata": {},
   "outputs": [
    {
     "name": "stdout",
     "output_type": "stream",
     "text": [
      "{'000000': 167, '000001': 15, '010000': 14, '010001': 1, '010010': 63, '010011': 13, '010100': 1, '010101': 2, '010110': 3, '010111': 1, '011000': 3, '011001': 2, '011010': 4, '011011': 2, '011100': 4, '011101': 3, '011110': 48, '011111': 9, '000010': 2, '100000': 48, '100001': 77, '100010': 6, '100011': 5, '100100': 4, '100101': 2, '101000': 5, '101001': 4, '101011': 1, '101100': 27, '101101': 48, '101110': 3, '101111': 12, '000011': 2, '110000': 6, '110001': 18, '110010': 39, '110011': 81, '110100': 2, '110101': 1, '110110': 3, '110111': 4, '111000': 6, '111010': 4, '111011': 8, '111100': 6, '111101': 8, '111110': 29, '111111': 42, '000100': 7, '000101': 1, '000110': 2, '001000': 11, '001001': 3, '001010': 1, '001011': 1, '001100': 121, '001101': 14, '001110': 2, '001111': 3}\n"
     ]
    }
   ],
   "source": [
    "result_bell_exp = job_bell_exp.result()\n",
    "print(result_bell_exp.get_counts())"
   ]
  },
  {
   "cell_type": "markdown",
   "id": "88d1f68e-6e23-465e-91ea-3595faff1b6c",
   "metadata": {},
   "source": [
    "**TO DO:** what's a reasonable way to measure the distance between the simulation and the experiment?"
   ]
  },
  {
   "cell_type": "markdown",
   "id": "240fbf92-dab2-4b7c-9cc7-bd6cd5dde387",
   "metadata": {
    "tags": []
   },
   "source": [
    "#### Transverse Field Ising Model (TFIM)\n",
    "\n",
    "We can build the circuit using `QAOA_TFD` from `variational_tfd`. To begin with, we consider one layer $d=1$. The angles were found in `preparing_TFD`. Finally we need to pick a temperature. Let's first consider infinite temperature $\\beta=0$. \n",
    "\n",
    "**TO DO:** later, we want to consider finite temperatures. To understand what's a reasonable value for finite temperature, it would be good to understand what's the distance between the ground state and both the first excited state and the highest energy state. "
   ]
  },
  {
   "cell_type": "code",
   "execution_count": 16,
   "id": "49586c86-2f99-4b34-bfe3-5da342e3f4fe",
   "metadata": {},
   "outputs": [
    {
     "data": {
      "text/plain": [
       "<qiskit.circuit.instructionset.InstructionSet at 0x161abe400>"
      ]
     },
     "execution_count": 16,
     "metadata": {},
     "output_type": "execute_result"
    }
   ],
   "source": [
    "d = 1\n",
    "theta = 4*d*[0]\n",
    "qaoa_tfim = QAOA_TFD(n, d, theta)\n",
    "# we need to add measurements to the circuit \n",
    "qaoa_tfim.circuit.add_register(ClassicalRegister(6,'creg'))\n",
    "qaoa_tfim.circuit.measure(range(6), range(6))"
   ]
  },
  {
   "cell_type": "code",
   "execution_count": 17,
   "id": "b9588df5-8554-4b64-a48a-4331ce757743",
   "metadata": {},
   "outputs": [
    {
     "data": {
      "image/png": "[encoded data removed]",
      "text/plain": [
       "<Figure size 648.01x445.48 with 1 Axes>"
      ]
     },
     "execution_count": 17,
     "metadata": {},
     "output_type": "execute_result"
    }
   ],
   "source": [
    "qaoa_tfim.circuit.draw('mpl')"
   ]
  },
  {
   "cell_type": "markdown",
   "id": "dbd03207-c005-49bd-a0a4-cbe7e720c149",
   "metadata": {},
   "source": [
    "Let's simulate the circuit."
   ]
  },
  {
   "cell_type": "code",
   "execution_count": 20,
   "id": "5ff80e84-6fb3-42c9-8579-f1b440fad4f3",
   "metadata": {
    "tags": []
   },
   "outputs": [],
   "source": [
    "job_tfim0_sim = backend_sim.run(transpile(qaoa_tfim.circuit, backend_sim), shots=1024)\n",
    "result_tfim0_sim = job_tfim0_sim.result()"
   ]
  },
  {
   "cell_type": "code",
   "execution_count": 21,
   "id": "35a7917f-3ed5-4aee-a3f8-eed7ef61c202",
   "metadata": {
    "tags": []
   },
   "outputs": [
    {
     "name": "stdout",
     "output_type": "stream",
     "text": [
      "{'000000': 116, '111111': 127, '001001': 152, '011011': 131, '101101': 145, '100100': 122, '010010': 115, '110110': 116}\n"
     ]
    }
   ],
   "source": [
    "print(result_tfim0_sim.get_counts())"
   ]
  },
  {
   "cell_type": "code",
   "execution_count": 22,
   "id": "68ba7cb0-5d34-454e-81a3-9f227e71730d",
   "metadata": {},
   "outputs": [
    {
     "data": {
      "text/plain": [
       "<JobStatus.VALIDATING: 'job is being validated'>"
      ]
     },
     "execution_count": 22,
     "metadata": {},
     "output_type": "execute_result"
    }
   ],
   "source": [
    "job_tfim0_exp = backend_exp.run(transpile(qaoa_tfim.circuit, backend_exp), shots=1024)\n",
    "job_tfim0_exp.status()"
   ]
  },
  {
   "cell_type": "code",
   "execution_count": 25,
   "id": "b291d72f-4061-4c88-aa10-dd7d61762694",
   "metadata": {},
   "outputs": [
    {
     "name": "stdout",
     "output_type": "stream",
     "text": [
      "{'000000': 42, '000001': 54, '010000': 21, '010001': 9, '010010': 62, '010011': 25, '010100': 7, '010101': 1, '010110': 8, '010111': 6, '011000': 8, '011001': 5, '011010': 16, '011011': 52, '011100': 2, '011101': 7, '011110': 2, '011111': 9, '000010': 13, '100000': 21, '100001': 17, '100010': 7, '100011': 5, '100100': 59, '100101': 10, '100110': 10, '100111': 10, '101000': 9, '101001': 20, '101010': 4, '101011': 4, '101100': 20, '101101': 46, '101110': 8, '101111': 10, '000011': 9, '110000': 7, '110001': 5, '110010': 17, '110011': 13, '110100': 18, '110101': 9, '110110': 32, '110111': 30, '111000': 4, '111001': 2, '111010': 13, '111011': 11, '111100': 7, '111101': 9, '111110': 27, '111111': 19, '000100': 10, '000101': 1, '000110': 5, '000111': 4, '001000': 71, '001001': 39, '001010': 7, '001011': 15, '001100': 4, '001101': 14, '001110': 7, '001111': 6}\n"
     ]
    }
   ],
   "source": [
    "result_tfim0_exp = job_tfim0_exp.result()\n",
    "print(result_tfim0_exp.get_counts())"
   ]
  },
  {
   "cell_type": "code",
   "execution_count": null,
   "id": "9e2a58ab-f2ed-43a5-92b1-96136ba49b99",
   "metadata": {},
   "outputs": [],
   "source": []
  }
 ],
 "metadata": {
  "kernelspec": {
   "display_name": "qg_lab",
   "language": "python",
   "name": "qg_lab"
  },
  "language_info": {
   "codemirror_mode": {
    "name": "ipython",
    "version": 3
   },
   "file_extension": ".py",
   "mimetype": "text/x-python",
   "name": "python",
   "nbconvert_exporter": "python",
   "pygments_lexer": "ipython3",
   "version": "3.10.5"
  }
 },
 "nbformat": 4,
 "nbformat_minor": 5
}
