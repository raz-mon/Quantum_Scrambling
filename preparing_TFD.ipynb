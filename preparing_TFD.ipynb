{
  "cells": [
    {
      "cell_type": "code",
      "source": [
        "pip install qiskit"
      ],
      "metadata": {
        "id": "Uc7Uhn4jGxhg"
      },
      "id": "Uc7Uhn4jGxhg",
      "execution_count": null,
      "outputs": []
    },
    {
      "cell_type": "code",
      "execution_count": 7,
      "id": "06e1ddcf-4ca1-4573-8532-e68ee755b6da",
      "metadata": {
        "id": "06e1ddcf-4ca1-4573-8532-e68ee755b6da"
      },
      "outputs": [],
      "source": [
        "import numpy as np\n",
        "from scipy.optimize import minimize\n",
        "import matplotlib.pyplot as plt\n",
        "\n",
        "import variational_tfd as tfd\n",
        "from whole_process import tfd_generator"
      ]
    },
    {
      "cell_type": "markdown",
      "id": "eb675058-a2a1-4543-a4a3-6221bdcc41aa",
      "metadata": {
        "id": "eb675058-a2a1-4543-a4a3-6221bdcc41aa"
      },
      "source": [
        "# Preparing the TFD\n",
        "\n",
        "Following [Wu, Hsieh 2018](https://arxiv.org/abs/1811.11756), [Zhu et al 2019](https://arxiv.org/pdf/1906.02699.pdf), and [Green et al. 2021](https://arxiv.org/abs/2112.02068), we implement a variational circuit which prepares the thermofield double for a transverse field Ising model. For simplicity we only consider a system with 3 spins, so we have a total of 6 qubits.\n",
        "\n",
        "We have implemented the variational circuit in variational_tfd.py. "
      ]
    },
    {
      "cell_type": "markdown",
      "id": "367aea5b-c41a-4dd6-bfd9-d9a084c82a68",
      "metadata": {
        "id": "367aea5b-c41a-4dd6-bfd9-d9a084c82a68"
      },
      "source": [
        "### Comparing different layers\n",
        "\n",
        "For each layer configuration, we consider a few different temperatures."
      ]
    },
    {
      "cell_type": "code",
      "execution_count": 8,
      "id": "2a68c213-1127-46bd-b5af-4624a162b1c8",
      "metadata": {
        "id": "2a68c213-1127-46bd-b5af-4624a162b1c8"
      },
      "outputs": [],
      "source": [
        "betas = [0.1*x**2 for x in range(10)]"
      ]
    },
    {
      "cell_type": "markdown",
      "id": "2855b6fd-cd77-4d1a-a9c4-6b76313d830c",
      "metadata": {
        "id": "2855b6fd-cd77-4d1a-a9c4-6b76313d830c"
      },
      "source": [
        "We begin by considering a circuit with only one layers."
      ]
    },
    {
      "cell_type": "code",
      "execution_count": 13,
      "id": "b3a9f129-bb2f-43d7-bb3a-fcfe7f27b334",
      "metadata": {
        "id": "b3a9f129-bb2f-43d7-bb3a-fcfe7f27b334"
      },
      "outputs": [],
      "source": [
        "d = 1\n",
        "# we initialize the angles randomnly at first\n",
        "angles = tfd.random_angles(4*d)"
      ]
    },
    {
      "cell_type": "code",
      "execution_count": 14,
      "id": "eb549460-554a-4602-90dd-5564cd16b464",
      "metadata": {
        "colab": {
          "base_uri": "https://localhost:8080/"
        },
        "id": "eb549460-554a-4602-90dd-5564cd16b464",
        "outputId": "0fd88eb6-2275-46f4-eb35-bd381d2c5ea7"
      },
      "outputs": [
        {
          "output_type": "stream",
          "name": "stdout",
          "text": [
            "CPU times: user 1min 8s, sys: 2.2 s, total: 1min 11s\n",
            "Wall time: 1min 12s\n"
          ]
        }
      ],
      "source": [
        "%%time\n",
        "# number of layers \n",
        "results1 = []\n",
        "for beta in betas:\n",
        "    # the reference state is\n",
        "    tfd_ref = tfd_generator().generate_tfd(beta)\n",
        "    # we build the QAOA circuit\n",
        "    qaoa = tfd.QAOA_TFD(3, d, angles)\n",
        "    # for the optimization we use minimize with the following args\n",
        "    optimizer = lambda f, theta: minimize(f, theta, method='CG', tol=1e-5, options={'maxiter': 4000, 'gtol': 1e-5})\n",
        "    # we define the variational algorithm\n",
        "    cooker = tfd.StateCooker(qaoa, tfd_ref, 'aer_simulator', optimizer)\n",
        "    results1.append(cooker.optimize())"
      ]
    },
    {
      "cell_type": "code",
      "source": [
        "results1"
      ],
      "metadata": {
        "id": "0viDJK1fKynR"
      },
      "id": "0viDJK1fKynR",
      "execution_count": null,
      "outputs": []
    },
    {
      "cell_type": "markdown",
      "id": "0d92aeba-556a-447d-b37a-ac9dc8481b16",
      "metadata": {
        "id": "0d92aeba-556a-447d-b37a-ac9dc8481b16"
      },
      "source": [
        "Let's plot the fidelity obtained as a function of beta. "
      ]
    },
    {
      "cell_type": "code",
      "execution_count": 24,
      "id": "8ef4a24e-7b3d-4962-940f-6d2b6fbad9d4",
      "metadata": {
        "colab": {
          "base_uri": "https://localhost:8080/",
          "height": 279
        },
        "id": "8ef4a24e-7b3d-4962-940f-6d2b6fbad9d4",
        "outputId": "5d5eafb4-a64e-45df-bb7f-29e1ac0bcb87"
      },
      "outputs": [
        {
          "output_type": "display_data",
          "data": {
            "text/plain": [
              "<Figure size 432x288 with 1 Axes>"
            ],
            "image/png": "[encoded data removed]"
          },
          "metadata": {
            "needs_background": "light"
          }
        }
      ],
      "source": [
        "fidelities1 = [1-result.fun for result in results1]\n",
        "plt.scatter(betas, fidelities1)\n",
        "plt.xlabel('beta')\n",
        "plt.ylabel('fidelity')\n",
        "plt.show()"
      ]
    },
    {
      "cell_type": "markdown",
      "id": "c6294124-22bc-483e-ab84-44730d0bd4ed",
      "metadata": {
        "id": "c6294124-22bc-483e-ab84-44730d0bd4ed"
      },
      "source": [
        "Let's plot also the number of iterations."
      ]
    },
    {
      "cell_type": "code",
      "source": [
        "niters = [result.nit for result in results1]\n",
        "plt.scatter(niters, betas)\n",
        "plt.xlabel('beta')\n",
        "plt.ylabel('number of iterations')"
      ],
      "metadata": {
        "colab": {
          "base_uri": "https://localhost:8080/",
          "height": 296
        },
        "id": "tXkEE6ezP5bF",
        "outputId": "30dba1ac-0061-457c-eb74-30e986921ddf"
      },
      "id": "tXkEE6ezP5bF",
      "execution_count": 23,
      "outputs": [
        {
          "output_type": "execute_result",
          "data": {
            "text/plain": [
              "Text(0, 0.5, 'number of iterations')"
            ]
          },
          "metadata": {},
          "execution_count": 23
        },
        {
          "output_type": "display_data",
          "data": {
            "text/plain": [
              "<Figure size 432x288 with 1 Axes>"
            ],
            "image/png": "[encoded data removed]"
          },
          "metadata": {
            "needs_background": "light"
          }
        }
      ]
    },
    {
      "cell_type": "code",
      "execution_count": 21,
      "id": "fb7212ac-4f60-4962-83d8-1cf6d448cd2d",
      "metadata": {
        "id": "fb7212ac-4f60-4962-83d8-1cf6d448cd2d"
      },
      "outputs": [],
      "source": [
        "d = 2\n",
        "# we initialize the angles randomnly at first\n",
        "angles = tfd.random_angles(4*d)"
      ]
    },
    {
      "cell_type": "code",
      "execution_count": null,
      "id": "9b99dd56-6374-420b-891e-cd7f6e39a5de",
      "metadata": {
        "id": "9b99dd56-6374-420b-891e-cd7f6e39a5de"
      },
      "outputs": [],
      "source": [
        "%%time\n",
        "# number of layers \n",
        "results2 = []\n",
        "for beta in betas:\n",
        "    # the reference state is\n",
        "    tfd_ref = tfd_generator().generate_tfd(beta)\n",
        "    # we build the QAOA circuit\n",
        "    qaoa = tfd.QAOA_TFD(3, d, angles)\n",
        "    # for the optimization we use minimize with the following args\n",
        "    optimizer = lambda f, theta: minimize(f, theta, method='COBYLA', tol=1e-3, options={'maxiter': 1000})\n",
        "    # we define the variational algorithm\n",
        "    cooker = tfd.StateCooker(qaoa, tfd_ref, 'aer_simulator', optimizer)\n",
        "    results2.append(cooker.optimize())"
      ]
    },
    {
      "cell_type": "code",
      "execution_count": null,
      "id": "420b3ea4-0ab7-4a77-b5c7-4b8a26ad8414",
      "metadata": {
        "id": "420b3ea4-0ab7-4a77-b5c7-4b8a26ad8414",
        "outputId": "d61191c3-0aa0-4e5b-c0e3-bfb15da8ce3e"
      },
      "outputs": [
        {
          "data": {
            "image/png": "[encoded data removed]",
            "text/plain": [
              "<Figure size 432x288 with 1 Axes>"
            ]
          },
          "metadata": {
            "needs_background": "light"
          },
          "output_type": "display_data"
        }
      ],
      "source": [
        "fidelities2 = [1-result.fun for result in results2]\n",
        "plt.plot(betas, fidelities2)\n",
        "plt.show()"
      ]
    },
    {
      "cell_type": "code",
      "execution_count": null,
      "id": "b677de91-1f15-4d7f-9250-9bc2fef06bf9",
      "metadata": {
        "id": "b677de91-1f15-4d7f-9250-9bc2fef06bf9"
      },
      "outputs": [],
      "source": [
        "d = 3\n",
        "# we initialize the angles randomnly at first\n",
        "angles = tfd.random_angles(4*d)"
      ]
    },
    {
      "cell_type": "code",
      "execution_count": null,
      "id": "03fb4e84-22c1-47d4-a224-5bcaffecd9ce",
      "metadata": {
        "id": "03fb4e84-22c1-47d4-a224-5bcaffecd9ce",
        "outputId": "c7cb7ab7-7f4a-4955-b94d-2761844a8770"
      },
      "outputs": [
        {
          "name": "stdout",
          "output_type": "stream",
          "text": [
            "CPU times: user 3min 8s, sys: 2.68 s, total: 3min 11s\n",
            "Wall time: 3min 9s\n"
          ]
        }
      ],
      "source": [
        "%%time\n",
        "# number of layers \n",
        "results3 = []\n",
        "for beta in betas:\n",
        "    # the reference state is\n",
        "    tfd_ref = tfd_generator().generate_tfd(beta)\n",
        "    # we build the QAOA circuit\n",
        "    qaoa = tfd.QAOA_TFD(3, d, angles)\n",
        "    # for the optimization we use minimize with the following args\n",
        "    optimizer = lambda f, theta: minimize(f, theta, method='COBYLA', tol=1e-3, options={'maxiter': 2000})\n",
        "    # we define the variational algorithm\n",
        "    cooker = tfd.StateCooker(qaoa, tfd_ref, 'aer_simulator', optimizer)\n",
        "    results3.append(cooker.optimize())"
      ]
    },
    {
      "cell_type": "code",
      "execution_count": null,
      "id": "261851a3-cfed-4853-9bd1-b357f78037f4",
      "metadata": {
        "id": "261851a3-cfed-4853-9bd1-b357f78037f4",
        "outputId": "225fd708-3db4-4400-bc44-3adbbb5d272d"
      },
      "outputs": [
        {
          "data": {
            "image/png": "[encoded data removed]",
            "text/plain": [
              "<Figure size 432x288 with 1 Axes>"
            ]
          },
          "metadata": {
            "needs_background": "light"
          },
          "output_type": "display_data"
        }
      ],
      "source": [
        "fidelities1 = [1-result.fun for result in results1]\n",
        "fidelities2 = [1-result.fun for result in results2]\n",
        "fidelities3 = [1-result.fun for result in results3]\n",
        "plt.plot(betas, fidelities1, label='d=1')\n",
        "plt.plot(betas, fidelities2, label='d=2')\n",
        "plt.plot(betas, fidelities3, label='d=3')\n",
        "plt.title('Fidelity')\n",
        "plt.legend(loc='best')\n",
        "plt.show()"
      ]
    },
    {
      "cell_type": "code",
      "execution_count": null,
      "id": "ce02e297-b895-4259-9f72-7e3092bd6f9e",
      "metadata": {
        "id": "ce02e297-b895-4259-9f72-7e3092bd6f9e",
        "outputId": "615fe47a-9f57-4acc-9e70-a1135cb02389"
      },
      "outputs": [
        {
          "data": {
            "image/png": "[encoded data removed]",
            "text/plain": [
              "<Figure size 432x288 with 1 Axes>"
            ]
          },
          "metadata": {
            "needs_background": "light"
          },
          "output_type": "display_data"
        }
      ],
      "source": [
        "iterations1 = [result.nfev for result in results1]\n",
        "iterations2 = [result.nfev for result in results2]\n",
        "iterations3 = [result.nfev for result in results3]\n",
        "plt.plot(betas, iterations1, label='d=1')\n",
        "plt.plot(betas, iterations2, label='d=2')\n",
        "plt.plot(betas, iterations3, label='d=3')\n",
        "plt.legend(loc='best')\n",
        "plt.title('Iterations')\n",
        "plt.show()"
      ]
    },
    {
      "cell_type": "markdown",
      "id": "5a212585-5dfb-4ccf-8553-6a1d8174e4a2",
      "metadata": {
        "id": "5a212585-5dfb-4ccf-8553-6a1d8174e4a2"
      },
      "source": [
        "### Training layer by layer\n",
        "\n",
        "Instead of picking all the initial angles at random we consider the angles on the first layers as found in the previous optimizations. "
      ]
    },
    {
      "cell_type": "code",
      "execution_count": null,
      "id": "099fba25-1daf-48d3-9418-6d36bc2d8d5a",
      "metadata": {
        "id": "099fba25-1daf-48d3-9418-6d36bc2d8d5a"
      },
      "outputs": [],
      "source": [
        "d = 1\n",
        "# we initialize the angles randomnly at first\n",
        "angles = tfd.random_angles(4*d)"
      ]
    },
    {
      "cell_type": "code",
      "execution_count": null,
      "id": "7073174c-d4a9-4532-a361-df128c28a2d9",
      "metadata": {
        "id": "7073174c-d4a9-4532-a361-df128c28a2d9",
        "outputId": "8d03e7e6-5f59-4c39-e352-d92e41ac2d8a"
      },
      "outputs": [
        {
          "name": "stdout",
          "output_type": "stream",
          "text": [
            "CPU times: user 11.9 s, sys: 272 ms, total: 12.2 s\n",
            "Wall time: 10.3 s\n"
          ]
        }
      ],
      "source": [
        "%%time\n",
        "# number of layers \n",
        "resultsL1 = []\n",
        "for beta in betas:\n",
        "    # the reference state is\n",
        "    tfd_ref = tfd_generator().generate_tfd(beta)\n",
        "    # we build the QAOA circuit\n",
        "    qaoa = tfd.QAOA_TFD(3, d, angles)\n",
        "    # for the optimization we use minimize with the following args\n",
        "    optimizer = lambda f, theta: minimize(f, theta, method='COBYLA', tol=1e-3, options={'maxiter': 1000})\n",
        "    # we define the variational algorithm\n",
        "    cooker = tfd.StateCooker(qaoa, tfd_ref, 'aer_simulator', optimizer)\n",
        "    resultsL1.append(cooker.optimize())"
      ]
    },
    {
      "cell_type": "code",
      "execution_count": null,
      "id": "243cd102-ee6f-425f-b9d7-4fc4cac298ab",
      "metadata": {
        "id": "243cd102-ee6f-425f-b9d7-4fc4cac298ab",
        "outputId": "2bad03e4-3753-4de1-e588-73feab989146"
      },
      "outputs": [
        {
          "data": {
            "image/png": "[encoded data removed]",
            "text/plain": [
              "<Figure size 432x288 with 1 Axes>"
            ]
          },
          "metadata": {
            "needs_background": "light"
          },
          "output_type": "display_data"
        }
      ],
      "source": [
        "fidelitiesL1 = [1-result.fun for result in resultsL1]\n",
        "plt.plot(betas, fidelitiesL1)\n",
        "plt.show()"
      ]
    },
    {
      "cell_type": "code",
      "execution_count": null,
      "id": "6d4cba64-6c53-4c73-8ce9-ac09f43a7987",
      "metadata": {
        "id": "6d4cba64-6c53-4c73-8ce9-ac09f43a7987"
      },
      "outputs": [],
      "source": [
        "d = 2\n",
        "# we initialize the angles randomnly at first\n",
        "angles += tfd.random_angles(4)"
      ]
    },
    {
      "cell_type": "code",
      "execution_count": null,
      "id": "9568b817-5432-48c5-8e0a-9135456154aa",
      "metadata": {
        "id": "9568b817-5432-48c5-8e0a-9135456154aa",
        "outputId": "95d4b7fb-a536-4c9d-d1fe-176f8fc527eb"
      },
      "outputs": [
        {
          "name": "stdout",
          "output_type": "stream",
          "text": [
            "CPU times: user 17.9 s, sys: 369 ms, total: 18.2 s\n",
            "Wall time: 16.4 s\n"
          ]
        }
      ],
      "source": [
        "%%time\n",
        "# number of layers \n",
        "resultsL2 = []\n",
        "for beta in betas:\n",
        "    # the reference state is\n",
        "    tfd_ref = tfd_generator().generate_tfd(beta)\n",
        "    # we build the QAOA circuit\n",
        "    qaoa = tfd.QAOA_TFD(3, d, angles)\n",
        "    # for the optimization we use minimize with the following args\n",
        "    optimizer = lambda f, theta: minimize(f, theta, method='COBYLA', tol=1e-3, options={'maxiter': 1000})\n",
        "    # we define the variational algorithm\n",
        "    cooker = tfd.StateCooker(qaoa, tfd_ref, 'aer_simulator', optimizer)\n",
        "    resultsL2.append(cooker.optimize())"
      ]
    },
    {
      "cell_type": "code",
      "execution_count": null,
      "id": "ecdf2b0f-2aaf-4da1-9e40-700be954974c",
      "metadata": {
        "id": "ecdf2b0f-2aaf-4da1-9e40-700be954974c",
        "outputId": "3c0f9520-b650-4af1-913f-4e3c90a0793b"
      },
      "outputs": [
        {
          "data": {
            "image/png": "[encoded data removed]",
            "text/plain": [
              "<Figure size 432x288 with 1 Axes>"
            ]
          },
          "metadata": {
            "needs_background": "light"
          },
          "output_type": "display_data"
        }
      ],
      "source": [
        "fidelitiesL2 = [1-result.fun for result in resultsL2]\n",
        "plt.plot(betas, fidelitiesL2)\n",
        "plt.show()"
      ]
    },
    {
      "cell_type": "code",
      "execution_count": null,
      "id": "b9bf3bf5-34f0-4da3-a1d7-3ce0b1c84be2",
      "metadata": {
        "id": "b9bf3bf5-34f0-4da3-a1d7-3ce0b1c84be2"
      },
      "outputs": [],
      "source": [
        "d = 3\n",
        "# we initialize the angles randomnly at first\n",
        "angles += tfd.random_angles(4)"
      ]
    },
    {
      "cell_type": "code",
      "execution_count": null,
      "id": "5d78d3e4-c8c8-433d-b0af-c7370839b059",
      "metadata": {
        "id": "5d78d3e4-c8c8-433d-b0af-c7370839b059",
        "outputId": "871c1ef5-75fa-4f6a-dacb-78860a636df5"
      },
      "outputs": [
        {
          "name": "stdout",
          "output_type": "stream",
          "text": [
            "CPU times: user 1min 57s, sys: 2.1 s, total: 1min 59s\n",
            "Wall time: 1min 58s\n"
          ]
        }
      ],
      "source": [
        "%%time\n",
        "# number of layers \n",
        "resultsL3 = []\n",
        "for beta in betas:\n",
        "    # the reference state is\n",
        "    tfd_ref = tfd_generator().generate_tfd(beta)\n",
        "    # we build the QAOA circuit\n",
        "    qaoa = tfd.QAOA_TFD(3, d, angles)\n",
        "    # for the optimization we use minimize with the following args\n",
        "    optimizer = lambda f, theta: minimize(f, theta, method='COBYLA', tol=1e-3, options={'maxiter': 2000})\n",
        "    # we define the variational algorithm\n",
        "    cooker = tfd.StateCooker(qaoa, tfd_ref, 'aer_simulator', optimizer)\n",
        "    resultsL3.append(cooker.optimize())"
      ]
    },
    {
      "cell_type": "code",
      "execution_count": null,
      "id": "4f60507f-b187-4a05-9677-75fed74357c6",
      "metadata": {
        "id": "4f60507f-b187-4a05-9677-75fed74357c6",
        "outputId": "d6868a96-3a50-4a1b-d238-3ee0d0e15bf4"
      },
      "outputs": [
        {
          "data": {
            "image/png": "[encoded data removed]",
            "text/plain": [
              "<Figure size 432x288 with 1 Axes>"
            ]
          },
          "metadata": {
            "needs_background": "light"
          },
          "output_type": "display_data"
        }
      ],
      "source": [
        "fidelitiesL3 = [1-result.fun for result in resultsL3]\n",
        "plt.plot(betas, fidelitiesL1, label='d=1')\n",
        "plt.plot(betas, fidelitiesL2, label='d=2')\n",
        "plt.plot(betas, fidelitiesL3, label='d=3')\n",
        "plt.title('Fidelity Layer by Layer')\n",
        "plt.legend(loc='best')\n",
        "plt.show()"
      ]
    },
    {
      "cell_type": "code",
      "execution_count": null,
      "id": "da23e770-4143-4e15-93ba-f501264979fd",
      "metadata": {
        "id": "da23e770-4143-4e15-93ba-f501264979fd",
        "outputId": "df9b6804-99cc-41d9-ab99-88eec50d27bc"
      },
      "outputs": [
        {
          "data": {
            "image/png": "[encoded data removed]",
            "text/plain": [
              "<Figure size 432x288 with 1 Axes>"
            ]
          },
          "metadata": {
            "needs_background": "light"
          },
          "output_type": "display_data"
        }
      ],
      "source": [
        "iterationsL1 = [result.nfev for result in resultsL1]\n",
        "iterationsL2 = [result.nfev for result in resultsL2]\n",
        "iterationsL3 = [result.nfev for result in resultsL3]\n",
        "plt.plot(betas, iterationsL1, label='d=1')\n",
        "plt.plot(betas, iterationsL2, label='d=2')\n",
        "plt.plot(betas, iterationsL3, label='d=3')\n",
        "plt.title('Iterations Layer by Layer')\n",
        "plt.legend(loc='best')\n",
        "plt.show()"
      ]
    },
    {
      "cell_type": "markdown",
      "id": "55d7ff63-4f3f-475a-ac06-b011103fa080",
      "metadata": {
        "id": "55d7ff63-4f3f-475a-ac06-b011103fa080"
      },
      "source": [
        "A few observations\n",
        "- The final fidelities achieved depend quite a lot on the original choice of angles. If the draw is unlucky, the algorithm doesn't get even close to preparing the TFD.\n",
        "- In [Zhu et al 2019](https://arxiv.org/pdf/1906.02699.pdf), the authors claim that they can achieve $F = 0.76$ with $p=1$, $F=0.88$ with $p=2$, and $F=1$ with $p=3$. Clearly, we are not doing as good. \n",
        "\n",
        "**TO DO:** \n",
        "Play with hyperparameters and check whether we can do better."
      ]
    },
    {
      "cell_type": "markdown",
      "id": "cc8960ea-b679-4474-9e26-d7c9f5f096e8",
      "metadata": {
        "id": "cc8960ea-b679-4474-9e26-d7c9f5f096e8"
      },
      "source": [
        "### Optimal angles as function of temperature\n",
        "\n",
        "We plot the optimal angles as a function of $\\beta$, and see if they have some simple behaviour. To speed up the process we consider $d=1$. "
      ]
    },
    {
      "cell_type": "code",
      "execution_count": null,
      "id": "0b0fb9af-491e-4fb4-8984-1f4f32ad0dba",
      "metadata": {
        "id": "0b0fb9af-491e-4fb4-8984-1f4f32ad0dba"
      },
      "outputs": [],
      "source": [
        "N = 100\n",
        "betas = [0.01*x for x in range(N)]\n",
        "d = 1\n",
        "# we initialize the angles randomnly at first\n",
        "angles = tfd.random_angles(4*d)"
      ]
    },
    {
      "cell_type": "code",
      "execution_count": null,
      "id": "0614fa7a-c314-4f31-b53e-78abc1d3513f",
      "metadata": {
        "id": "0614fa7a-c314-4f31-b53e-78abc1d3513f",
        "outputId": "07109009-579b-4a63-9fbc-827b87588158"
      },
      "outputs": [
        {
          "name": "stdout",
          "output_type": "stream",
          "text": [
            "CPU times: user 1min 13s, sys: 2.04 s, total: 1min 15s\n",
            "Wall time: 60 s\n"
          ]
        }
      ],
      "source": [
        "%%time\n",
        "# number of layers \n",
        "results_angles = []\n",
        "for beta in betas:\n",
        "    # the reference state is\n",
        "    tfd_ref = tfd_generator().generate_tfd(beta)\n",
        "    # we build the QAOA circuit\n",
        "    qaoa = tfd.QAOA_TFD(3, d, angles)\n",
        "    # for the optimization we use minimize with the following args\n",
        "    optimizer = lambda f, theta: minimize(f, theta, method='COBYLA', tol=1e-3, options={'maxiter': 1000})\n",
        "    # we define the variational algorithm\n",
        "    cooker = tfd.StateCooker(qaoa, tfd_ref, 'aer_simulator', optimizer)\n",
        "    results_angles.append(cooker.optimize().x)"
      ]
    },
    {
      "cell_type": "code",
      "execution_count": null,
      "id": "a737c622-217c-416b-b7f4-24807f9b1a64",
      "metadata": {
        "id": "a737c622-217c-416b-b7f4-24807f9b1a64",
        "outputId": "00deb61f-b352-4f38-9a27-ecdd354a0460"
      },
      "outputs": [
        {
          "data": {
            "image/png": "[encoded data removed]",
            "text/plain": [
              "<Figure size 432x288 with 1 Axes>"
            ]
          },
          "metadata": {
            "needs_background": "light"
          },
          "output_type": "display_data"
        }
      ],
      "source": [
        "for i in range(4):\n",
        "    plt.plot(betas, [result[i] for result in results_angles], label=f'theta{i}')\n",
        "plt.legend(loc='best')\n",
        "plt.show()"
      ]
    },
    {
      "cell_type": "code",
      "execution_count": null,
      "id": "f6c5358f-696b-45b2-87fc-998abec3a9d3",
      "metadata": {
        "id": "f6c5358f-696b-45b2-87fc-998abec3a9d3"
      },
      "outputs": [],
      "source": [
        ""
      ]
    },
    {
      "cell_type": "markdown",
      "id": "f738b82e-d269-4813-bb01-fb9e2bc07119",
      "metadata": {
        "id": "f738b82e-d269-4813-bb01-fb9e2bc07119"
      },
      "source": [
        "¯\\_(ツ)_/¯"
      ]
    },
    {
      "cell_type": "markdown",
      "id": "2aa9da3c-575e-4148-ae8a-0287e9ede049",
      "metadata": {
        "id": "2aa9da3c-575e-4148-ae8a-0287e9ede049"
      },
      "source": [
        "### Comparing different initial angles "
      ]
    },
    {
      "cell_type": "code",
      "execution_count": null,
      "id": "a86493e1-0839-43ba-ab1d-2caab9538d5f",
      "metadata": {
        "id": "a86493e1-0839-43ba-ab1d-2caab9538d5f"
      },
      "outputs": [],
      "source": [
        "data = []\n",
        "def try_fun(a):\n",
        "    print(a)\n",
        "    return False"
      ]
    },
    {
      "cell_type": "code",
      "execution_count": null,
      "id": "31bdde5c-af81-47ce-a8d8-6d232a2d2be7",
      "metadata": {
        "id": "31bdde5c-af81-47ce-a8d8-6d232a2d2be7",
        "outputId": "c3d043c6-52d3-4df1-dd81-ea2d9eca9f86"
      },
      "outputs": [
        {
          "name": "stdout",
          "output_type": "stream",
          "text": [
            "CPU times: user 19.7 s, sys: 539 ms, total: 20.2 s\n",
            "Wall time: 19.2 s\n"
          ]
        }
      ],
      "source": [
        "%%time\n",
        "d = 2\n",
        "beta = 1 \n",
        "resultsAngles = []\n",
        "for i in range(10):\n",
        "    # we initialize the angles randomnly at first\n",
        "    angles = tfd.random_angles(4*d)\n",
        "    # the reference state is\n",
        "    tfd_ref = tfd_generator().generate_tfd(beta)\n",
        "    # we build the QAOA circuit\n",
        "    qaoa = tfd.QAOA_TFD(3, d, angles)\n",
        "    # for the optimization we use minimize with the following args\n",
        "    optimizer = lambda f, theta: minimize(f, theta, method='COBYLA', tol=1e-2, options={'maxiter': 1000})\n",
        "    # we define the variational algorithm\n",
        "    cooker = tfd.StateCooker(qaoa, tfd_ref, 'aer_simulator', optimizer)\n",
        "    resultsAngles.append(cooker.optimize())"
      ]
    },
    {
      "cell_type": "code",
      "execution_count": null,
      "id": "e2a4ef41-c69b-4f11-ada7-bdae3d2c563e",
      "metadata": {
        "id": "e2a4ef41-c69b-4f11-ada7-bdae3d2c563e",
        "outputId": "28a2b37b-94f4-47ed-dd0f-992afb6129bd"
      },
      "outputs": [
        {
          "data": {
            "image/png": "[encoded data removed]",
            "text/plain": [
              "<Figure size 432x288 with 1 Axes>"
            ]
          },
          "metadata": {
            "needs_background": "light"
          },
          "output_type": "display_data"
        }
      ],
      "source": [
        "iterationsAngles = [result.nfev for result in resultsAngles]\n",
        "plt.plot(iterationsAngles, 'o')\n",
        "plt.show()"
      ]
    },
    {
      "cell_type": "code",
      "execution_count": null,
      "id": "3e9cb5ec-8f28-41ad-9bbb-d77470702797",
      "metadata": {
        "id": "3e9cb5ec-8f28-41ad-9bbb-d77470702797",
        "outputId": "5dfd27ed-c1f7-451a-a980-28c49e19c9aa"
      },
      "outputs": [
        {
          "data": {
            "text/plain": [
              "     fun: 0.22666825273819213\n",
              "   maxcv: 0.0\n",
              " message: 'Optimization terminated successfully.'\n",
              "    nfev: 54\n",
              "  status: 1\n",
              " success: True\n",
              "       x: array([1.86820035, 6.27754945, 3.58337413, 4.95342562, 1.93243424,\n",
              "       6.27420685, 0.60791953, 4.92553434])"
            ]
          },
          "execution_count": 30,
          "metadata": {},
          "output_type": "execute_result"
        }
      ],
      "source": [
        "resultsAngles[0]"
      ]
    },
    {
      "cell_type": "code",
      "execution_count": null,
      "id": "0880dd1a-affb-49c2-a1d8-8ada82b4c21f",
      "metadata": {
        "id": "0880dd1a-affb-49c2-a1d8-8ada82b4c21f",
        "outputId": "4358e444-3ba9-4289-cbbd-9b8f3ec53475"
      },
      "outputs": [
        {
          "data": {
            "image/png": "[encoded data removed]",
            "text/plain": [
              "<Figure size 432x288 with 1 Axes>"
            ]
          },
          "metadata": {
            "needs_background": "light"
          },
          "output_type": "display_data"
        }
      ],
      "source": [
        "fidelitiesAngles = [1-result.fun for result in resultsAngles]\n",
        "plt.plot(fidelitiesAngles, 'o')\n",
        "plt.show()"
      ]
    },
    {
      "cell_type": "code",
      "execution_count": null,
      "id": "49e0757c-f445-469b-93a4-8dce4690fae9",
      "metadata": {
        "id": "49e0757c-f445-469b-93a4-8dce4690fae9",
        "outputId": "fb98e536-7380-4fef-be56-34056bde5364"
      },
      "outputs": [
        {
          "data": {
            "image/png": "[encoded data removed]",
            "text/plain": [
              "<Figure size 432x288 with 1 Axes>"
            ]
          },
          "metadata": {
            "needs_background": "light"
          },
          "output_type": "display_data"
        }
      ],
      "source": [
        "fidelitiesAngles = [1-result.fun for result in resultsAngles]\n",
        "plt.plot(fidelitiesAngles, 'o')\n",
        "plt.show()"
      ]
    },
    {
      "cell_type": "code",
      "execution_count": null,
      "id": "9ad4ffc1-1902-48f0-af1c-e144e4f19d0b",
      "metadata": {
        "id": "9ad4ffc1-1902-48f0-af1c-e144e4f19d0b",
        "outputId": "8516e457-244e-4d23-e447-ab077090ecfc"
      },
      "outputs": [
        {
          "data": {
            "image/png": "[encoded data removed]",
            "text/plain": [
              "<Figure size 432x288 with 1 Axes>"
            ]
          },
          "metadata": {
            "needs_background": "light"
          },
          "output_type": "display_data"
        }
      ],
      "source": [
        "fidelitiesAngles = [1-result.fun for result in resultsAngles]\n",
        "plt.plot(fidelitiesAngles, 'o')\n",
        "plt.show()"
      ]
    },
    {
      "cell_type": "code",
      "execution_count": null,
      "id": "6f257cef-b88d-4825-9b31-045e2ed57ffa",
      "metadata": {
        "id": "6f257cef-b88d-4825-9b31-045e2ed57ffa",
        "outputId": "aee16a23-6232-4f1c-a077-72918781bcca"
      },
      "outputs": [
        {
          "ename": "NameError",
          "evalue": "name 'minimize' is not defined",
          "output_type": "error",
          "traceback": [
            "\u001b[0;31m---------------------------------------------------------------------------\u001b[0m",
            "\u001b[0;31mNameError\u001b[0m                                 Traceback (most recent call last)",
            "\u001b[0;32m/var/folders/08/5n667lp57j35w8ycv_5620_w0000gn/T/ipykernel_10023/539620771.py\u001b[0m in \u001b[0;36m<module>\u001b[0;34m\u001b[0m\n\u001b[0;32m----> 1\u001b[0;31m \u001b[0mhelp\u001b[0m\u001b[0;34m(\u001b[0m\u001b[0mminimize\u001b[0m\u001b[0;34m)\u001b[0m\u001b[0;34m\u001b[0m\u001b[0;34m\u001b[0m\u001b[0m\n\u001b[0m",
            "\u001b[0;31mNameError\u001b[0m: name 'minimize' is not defined"
          ]
        }
      ],
      "source": [
        ""
      ]
    },
    {
      "cell_type": "markdown",
      "source": [
        "# Print the angles accompanied by the resulting fidelity.\n",
        "Try finding some rule - what initial angles result in bad fidelities?"
      ],
      "metadata": {
        "id": "GsYWHyFNVIK3"
      },
      "id": "GsYWHyFNVIK3"
    },
    {
      "cell_type": "code",
      "execution_count": null,
      "id": "bd633885-485f-4dbf-8fad-4a0e378ec728",
      "metadata": {
        "id": "bd633885-485f-4dbf-8fad-4a0e378ec728"
      },
      "outputs": [],
      "source": [
        "\"\"\"Save angles for each run, so we know which initial angles are problematic\n",
        "(can do so for the second layer as well)\"\"\"\n",
        "%%time\n",
        "d = 2\n",
        "beta = 1 \n",
        "resultsAngles = []\n",
        "ang = []\n",
        "for i in range(10):\n",
        "    # we initialize the angles randomnly at first\n",
        "    angles = tfd.random_angles(4*d)\n",
        "    ang.append(angles)\n",
        "    # the reference state is\n",
        "    tfd_ref = tfd_generator().generate_tfd(beta)\n",
        "    # we build the QAOA circuit\n",
        "    qaoa = tfd.QAOA_TFD(3, d, angles)\n",
        "    # for the optimization we use minimize with the following args\n",
        "    optimizer = lambda f, theta: minimize(f, theta, method='CG', tol=1e-5, options={'maxiter': 4000, 'gtol': 1e-5})\n",
        "    # we define the variational algorithm\n",
        "    cooker = tfd.StateCooker(qaoa, tfd_ref, 'aer_simulator', optimizer)\n",
        "    resultsAngles.append(cooker.optimize())"
      ]
    },
    {
      "cell_type": "code",
      "source": [
        "for i in range(len(resultsAngles)):\n",
        "  print(f'angles: {ang[i]}\\n-->fidelity: {resultsAngles[i].fun}\\n\\n')"
      ],
      "metadata": {
        "id": "dCromcqFUUeT"
      },
      "id": "dCromcqFUUeT",
      "execution_count": null,
      "outputs": []
    },
    {
      "cell_type": "markdown",
      "source": [
        "# Comparing different tollerations\n"
      ],
      "metadata": {
        "id": "R_NCxzSrYGNt"
      },
      "id": "R_NCxzSrYGNt"
    },
    {
      "cell_type": "code",
      "execution_count": null,
      "metadata": {
        "id": "zXcGYFh0a85Q"
      },
      "outputs": [],
      "source": [
        "\"\"\"Save angles for each run, so we know which initial angles are problematic\n",
        "(can do so for the second layer as well)\"\"\"\n",
        "%%time\n",
        "d = 2\n",
        "beta = 1 \n",
        "resultsAngles = []\n",
        "ang = []\n",
        "tols = []\n",
        "tol = 1e-2\n",
        "for i in range(10):\n",
        "    # we initialize the angles randomnly at first\n",
        "    angles = tfd.random_angles(4*d)\n",
        "    ang.append(angles)\n",
        "    tol = tol/10\n",
        "    tols.append(tol)\n",
        "    # the reference state is\n",
        "    tfd_ref = tfd_generator().generate_tfd(beta)\n",
        "    # we build the QAOA circuit\n",
        "    qaoa = tfd.QAOA_TFD(3, d, angles)\n",
        "    # for the optimization we use minimize with the following args\n",
        "    optimizer = lambda f, theta: minimize(f, theta, method='COBYLA', tol=tol, options={'maxiter': 1000})\n",
        "    # we define the variational algorithm\n",
        "    cooker = tfd.StateCooker(qaoa, tfd_ref, 'aer_simulator', optimizer)\n",
        "    resultsAngles.append(cooker.optimize())"
      ],
      "id": "zXcGYFh0a85Q"
    },
    {
      "cell_type": "code",
      "source": [
        "for i in range(len(resultsAngles)):\n",
        "  print(f'angles: {ang[i]}\\ntol: {tols[i]}\\n-->fidelity: {resultsAngles[i].fun}\\n\\n')"
      ],
      "metadata": {
        "id": "Bv3InSsIa85Q"
      },
      "execution_count": null,
      "outputs": [],
      "id": "Bv3InSsIa85Q"
    },
    {
      "cell_type": "code",
      "source": [
        ""
      ],
      "metadata": {
        "id": "E2Ae4dzPdCPQ"
      },
      "id": "E2Ae4dzPdCPQ",
      "execution_count": null,
      "outputs": []
    }
  ],
  "metadata": {
    "kernelspec": {
      "display_name": "quantum",
      "language": "python",
      "name": "quantum"
    },
    "language_info": {
      "codemirror_mode": {
        "name": "ipython",
        "version": 3
      },
      "file_extension": ".py",
      "mimetype": "text/x-python",
      "name": "python",
      "nbconvert_exporter": "python",
      "pygments_lexer": "ipython3",
      "version": "3.9.7"
    },
    "colab": {
      "name": "preparing_TFD.ipynb",
      "provenance": [],
      "collapsed_sections": []
    }
  },
  "nbformat": 4,
  "nbformat_minor": 5
}